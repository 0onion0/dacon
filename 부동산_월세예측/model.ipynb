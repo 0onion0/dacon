{
 "cells": [
  {
   "cell_type": "code",
   "execution_count": null,
   "metadata": {},
   "outputs": [
    {
     "ename": "",
     "evalue": "",
     "output_type": "error",
     "traceback": [
      "\u001b[1;31mRunning cells with 'venv_study (Python 3.10.10)' requires the ipykernel package.\n",
      "\u001b[1;31mInstall 'ipykernel' into the Python environment. \n",
      "\u001b[1;31mCommand: 'c:/Users/OIDL_JB/Desktop/S/py/ex/dacon/부동산_월세예측/venv_study/Scripts/python.exe -m pip install ipykernel -U --force-reinstall'"
     ]
    }
   ],
   "source": [
    "import torch\n",
    "\n",
    "print(\"🧠 PyTorch 버전:\", torch.__version__)\n",
    "print(\"🚀 CUDA 사용 가능:\", torch.cuda.is_available())\n",
    "\n",
    "if torch.cuda.is_available():\n",
    "    print(\"🖥️ GPU 이름:\", torch.cuda.get_device_name(0))\n",
    "    print(\"🔥 CUDA 버전 (빌드 기준):\", torch.version.cuda)\n",
    "else:\n",
    "    print(\"❌ CUDA 사용 불가 (CPU 모드)\")\n"
   ]
  },
  {
   "cell_type": "code",
   "execution_count": null,
   "id": "a1da31d0",
   "metadata": {},
   "outputs": [],
   "source": []
  }
 ],
 "metadata": {
  "kernelspec": {
   "display_name": "py310",
   "language": "python",
   "name": "python3"
  },
  "language_info": {
   "name": "python",
   "version": "3.10.10"
  }
 },
 "nbformat": 4,
 "nbformat_minor": 5
}
